{
 "cells": [
  {
   "cell_type": "code",
   "execution_count": null,
   "id": "c2e8de19",
   "metadata": {},
   "outputs": [],
   "source": [
    "# https://realpython.com/pdf-python/\n",
    "# https://www.geeksforgeeks.org/working-with-pdf-files-in-python/\n",
    "\n",
    "#!pip install --upgrade PyPDF2==2.12.1"
   ]
  },
  {
   "cell_type": "markdown",
   "id": "fe759d0e",
   "metadata": {},
   "source": [
    "## 1. Extracting text from PDF file"
   ]
  },
  {
   "cell_type": "code",
   "execution_count": null,
   "id": "008b247a",
   "metadata": {},
   "outputs": [],
   "source": [
    "# importing required modules\n",
    "import PyPDF2"
   ]
  },
  {
   "cell_type": "code",
   "execution_count": null,
   "id": "3c2293e1",
   "metadata": {},
   "outputs": [],
   "source": [
    "# creating a pdf file object\n",
    "pdfFileObj = open('00372915.pdf', 'rb')\n",
    "\n",
    "# We opened the example.pdf in binary mode. And saved the file object as pdfFileObj."
   ]
  },
  {
   "cell_type": "code",
   "execution_count": null,
   "id": "0f648fdd",
   "metadata": {},
   "outputs": [],
   "source": [
    "# creating a pdf reader object\n",
    "pdfReader = PyPDF2.PdfFileReader(pdfFileObj)\n",
    "\n",
    "# Here, we create an object of PdfFileReader class of PyPDF2 module and pass the PDF file object \n",
    "# & get a PDF reader object."
   ]
  },
  {
   "cell_type": "code",
   "execution_count": null,
   "id": "97d6722b",
   "metadata": {},
   "outputs": [],
   "source": [
    "# printing number of pages in pdf file\n",
    "print(pdfReader.numPages)\n",
    "\n",
    "# numPages property gives the number of pages in the PDF file. \n",
    "# For example, in our case, it is 20 (see first line of output)."
   ]
  },
  {
   "cell_type": "code",
   "execution_count": null,
   "id": "bb219d29",
   "metadata": {},
   "outputs": [],
   "source": [
    "# creating a page object\n",
    "pageObj = pdfReader.getPage(0)\n",
    "\n",
    "# Now, we create an object of PageObject class of PyPDF2 module. \n",
    "# PDF reader object has function getPage() which takes page number (starting from index 0)\n",
    "# as argument and returns the page object."
   ]
  },
  {
   "cell_type": "code",
   "execution_count": null,
   "id": "a0505cbc",
   "metadata": {},
   "outputs": [],
   "source": [
    "# extracting text from page\n",
    "print(pageObj.extractText())\n",
    "\n",
    "# Page object has function extractText() to extract text from the PDF page."
   ]
  },
  {
   "cell_type": "code",
   "execution_count": null,
   "id": "cf2172d7",
   "metadata": {},
   "outputs": [],
   "source": [
    "# closing the pdf file object\n",
    "pdfFileObj.close()\n",
    "\n",
    "# At last, we close the PDF file object."
   ]
  },
  {
   "cell_type": "markdown",
   "id": "b566813f",
   "metadata": {},
   "source": [
    "## 2. Rotating PDF pages"
   ]
  },
  {
   "cell_type": "code",
   "execution_count": null,
   "id": "b108a0e4",
   "metadata": {},
   "outputs": [],
   "source": [
    "def PDFrotate(origFileName, newFileName, rotation):\n",
    "  \n",
    "    # creating a pdf File object of original pdf\n",
    "    pdfFileObj = open(origFileName, 'rb')\n",
    "      \n",
    "    # creating a pdf Reader object\n",
    "    pdfReader = PyPDF2.PdfFileReader(pdfFileObj)\n",
    "  \n",
    "    # creating a pdf writer object for new pdf\n",
    "    pdfWriter = PyPDF2.PdfFileWriter()\n",
    "      \n",
    "    # rotating each page\n",
    "    for page in range(pdfReader.numPages):\n",
    "  \n",
    "        # creating rotated page object\n",
    "        pageObj = pdfReader.getPage(page)\n",
    "        pageObj.rotateClockwise(rotation)\n",
    "  \n",
    "        # adding rotated page object to pdf writer\n",
    "        pdfWriter.addPage(pageObj)\n",
    "  \n",
    "    # new pdf file object\n",
    "    newFile = open(newFileName, 'wb')\n",
    "      \n",
    "    # writing rotated pages to new file\n",
    "    pdfWriter.write(newFile)\n",
    "  \n",
    "    # closing the original pdf file object\n",
    "    pdfFileObj.close()\n",
    "      \n",
    "    # closing the new pdf file object\n",
    "    newFile.close()     \n",
    "\n"
   ]
  },
  {
   "cell_type": "code",
   "execution_count": null,
   "id": "fb32cc52",
   "metadata": {},
   "outputs": [],
   "source": [
    "def main():\n",
    "  \n",
    "    # original pdf file name\n",
    "    origFileName = '00372915.pdf'\n",
    "     \n",
    "    # new pdf file name\n",
    "    newFileName = 'rotated_example.pdf'\n",
    "      \n",
    "    # rotation angle\n",
    "    rotation = 270\n",
    "      \n",
    "    # calling the PDFrotate function\n",
    "    PDFrotate(origFileName, newFileName, rotation)\n",
    "      \n",
    "if __name__ == \"__main__\":\n",
    "    # calling the main function\n",
    "    main()"
   ]
  },
  {
   "cell_type": "markdown",
   "id": "02224b25",
   "metadata": {},
   "source": [
    "## 3. Merging PDF files"
   ]
  },
  {
   "cell_type": "code",
   "execution_count": null,
   "id": "cce8e74c",
   "metadata": {},
   "outputs": [],
   "source": [
    "def PDFmerge(pdfs, output):\n",
    "    # creating pdf file merger object\n",
    "    pdfMerger = PyPDF2.PdfFileMerger()\n",
    "  \n",
    "    # appending pdfs one by one\n",
    "    for pdf in pdfs:\n",
    "        pdfMerger.append(pdf)\n",
    "  \n",
    "    # writing combined pdf to output pdf file\n",
    "    with open(output, 'wb') as f:\n",
    "        pdfMerger.write(f)"
   ]
  },
  {
   "cell_type": "code",
   "execution_count": null,
   "id": "7dfd9d38",
   "metadata": {},
   "outputs": [],
   "source": [
    "def main():\n",
    "    # pdf files to merge\n",
    "    pdfs = ['00372915.pdf', 'rotated_example.pdf']\n",
    "  \n",
    "    # output pdf file name\n",
    "    output = 'combined_example.pdf'\n",
    "  \n",
    "    # calling pdf merge function\n",
    "    PDFmerge(pdfs=pdfs, output=output)\n",
    "  \n",
    "  \n",
    "if __name__ == \"__main__\":\n",
    "    # calling the main function\n",
    "    main()"
   ]
  },
  {
   "cell_type": "markdown",
   "id": "31932603",
   "metadata": {},
   "source": [
    "## 4. Splitting PDF file"
   ]
  },
  {
   "cell_type": "code",
   "execution_count": null,
   "id": "91467244",
   "metadata": {},
   "outputs": [],
   "source": [
    "def PDFsplit(pdf, splits):\n",
    "    # creating input pdf file object\n",
    "    pdfFileObj = open(pdf, 'rb')\n",
    "      \n",
    "    # creating pdf reader object\n",
    "    pdfReader = PyPDF2.PdfFileReader(pdfFileObj)\n",
    "      \n",
    "    # starting index of first slice\n",
    "    start = 0\n",
    "      \n",
    "    # starting index of last slice\n",
    "    end = splits[0]\n",
    "      \n",
    "      \n",
    "    for i in range(len(splits)+1):\n",
    "        # creating pdf writer object for (i+1)th split\n",
    "        pdfWriter = PyPDF2.PdfFileWriter()\n",
    "          \n",
    "        # output pdf file name\n",
    "        outputpdf = pdf.split('.pdf')[0] + str(i) + '.pdf'\n",
    "          \n",
    "        # adding pages to pdf writer object\n",
    "        for page in range(start,end):\n",
    "            pdfWriter.addPage(pdfReader.getPage(page))\n",
    "          \n",
    "        # writing split pdf pages to pdf file\n",
    "        with open(outputpdf, \"wb\") as f:\n",
    "            pdfWriter.write(f)\n",
    "  \n",
    "        # interchanging page split start position for next split\n",
    "        start = end\n",
    "        try:\n",
    "            # setting split end position for next split\n",
    "            end = splits[i+1]\n",
    "        except IndexError:\n",
    "            # setting split end position for last split\n",
    "            end = pdfReader.numPages\n",
    "          \n",
    "    # closing the input pdf file object\n",
    "    pdfFileObj.close()"
   ]
  },
  {
   "cell_type": "code",
   "execution_count": null,
   "id": "9e91b54e",
   "metadata": {},
   "outputs": [],
   "source": [
    "def main():\n",
    "    # pdf file to split\n",
    "    pdf = '00372915.pdf'\n",
    "      \n",
    "    # split page positions\n",
    "    splits = [2,4]\n",
    "      \n",
    "    # calling PDFsplit function to split pdf\n",
    "    PDFsplit(pdf, splits)"
   ]
  },
  {
   "cell_type": "code",
   "execution_count": null,
   "id": "fcf4ea99",
   "metadata": {},
   "outputs": [],
   "source": [
    "if __name__ == \"__main__\":\n",
    "    # calling the main function\n",
    "    main()\n",
    "    \n",
    "# Output will be three new PDF files with split 1 (page 0,1), split 2(page 2,3), split 3(page 4-end)."
   ]
  },
  {
   "cell_type": "code",
   "execution_count": null,
   "id": "5260e30f",
   "metadata": {},
   "outputs": [],
   "source": []
  }
 ],
 "metadata": {
  "kernelspec": {
   "display_name": "Python 3 (ipykernel)",
   "language": "python",
   "name": "python3"
  },
  "language_info": {
   "codemirror_mode": {
    "name": "ipython",
    "version": 3
   },
   "file_extension": ".py",
   "mimetype": "text/x-python",
   "name": "python",
   "nbconvert_exporter": "python",
   "pygments_lexer": "ipython3",
   "version": "3.9.13"
  }
 },
 "nbformat": 4,
 "nbformat_minor": 5
}
