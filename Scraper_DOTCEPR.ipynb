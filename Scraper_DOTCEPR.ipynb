{
 "cells": [
  {
   "cell_type": "code",
   "execution_count": null,
   "id": "f216eb71",
   "metadata": {},
   "outputs": [],
   "source": [
    "# Step 1: Import all the important modules and packages\n",
    "\n",
    "# for get the pdf files or url\n",
    "import requests\n",
    "\n",
    "# for tree traversal scraping in webpage\n",
    "from bs4 import BeautifulSoup\n",
    "\n",
    "# for input and output operations\n",
    "import io\n",
    "\n",
    "# For getting information about the pdfs\n",
    "import PyPDF2"
   ]
  },
  {
   "cell_type": "code",
   "execution_count": null,
   "id": "7f8266d6",
   "metadata": {},
   "outputs": [],
   "source": [
    "# Step 2: Passing the URL and make an HTML parser with the help of BeautifulSoup.\n",
    "\n",
    "# website to scrap\n",
    "url = \"https://www1.tce.pr.gov.br/conteudo/diario-eletronico-2950-2023-de-29-de-marco-de-2023/346798/area/10\"\n",
    "\n",
    "# get the url from requests get method\n",
    "read = requests.get(url)\n",
    "\n",
    "# full html content\n",
    "html_content = read.content\n",
    "\n",
    "# Parse the html content\n",
    "soup = BeautifulSoup(html_content, \"html.parser\")"
   ]
  },
  {
   "cell_type": "code",
   "execution_count": null,
   "id": "b16be02b",
   "metadata": {},
   "outputs": [],
   "source": [
    "# Step 3: We need to traverse through the PDFs from the website.\n",
    "\n",
    "# created an empty list for putting the pdfs\n",
    "\n",
    "list_of_links = []\n",
    "\n",
    "for link in soup.find_all('a'):\n",
    "    if 'href' in link.attrs:\n",
    "        list_of_links.append(link.attrs['href'])\n",
    "        \n",
    "# Set is used because it never repeats the same-named elements. \n",
    "# And automatically get rid of duplicates.\n",
    "set_of_pdfs = set()\n",
    "\n",
    "for link in list_of_links:\n",
    "    if link[-4:] == '.pdf':\n",
    "        set_of_pdfs.add(link)\n",
    "        \n",
    "pdfs = list(set_of_pdfs)"
   ]
  },
  {
   "cell_type": "code",
   "execution_count": null,
   "id": "b06f108c",
   "metadata": {},
   "outputs": [],
   "source": [
    "for pdf in pdfs:\n",
    "    print(pdf)"
   ]
  },
  {
   "cell_type": "code",
   "execution_count": null,
   "id": "aa4b69a6",
   "metadata": {},
   "outputs": [],
   "source": [
    "# Create an empty python dict to save the pdf information (page and text)\n",
    "information = {}\n",
    "\n",
    "def info(pdf_path):\n",
    " \n",
    "    \n",
    "    # used get method to get the pdf file\n",
    "    response = requests.get(pdf_path)\n",
    " \n",
    "    # response.content generate binary code for\n",
    "    # string function\n",
    "    with io.BytesIO(response.content) as f:\n",
    " \n",
    "        # initialized the pdf\n",
    "        pdfReader = PyPDF2.PdfFileReader(f)\n",
    " \n",
    "        # all info about pdf\n",
    "        \n",
    "        number_of_pages = pdfReader.numPages\n",
    "        \n",
    "        for page in range(number_of_pages):\n",
    "            pageObj = pdfReader.getPage(page)\n",
    "            information[page] = pageObj.extractText()\n",
    " "
   ]
  },
  {
   "cell_type": "code",
   "execution_count": null,
   "id": "7a944d97",
   "metadata": {},
   "outputs": [],
   "source": [
    "info(pdfs[0])"
   ]
  },
  {
   "cell_type": "code",
   "execution_count": null,
   "id": "6e970b1a",
   "metadata": {},
   "outputs": [],
   "source": [
    "information[30]"
   ]
  },
  {
   "cell_type": "code",
   "execution_count": null,
   "id": "dc807c98",
   "metadata": {},
   "outputs": [],
   "source": []
  }
 ],
 "metadata": {
  "kernelspec": {
   "display_name": "Python 3 (ipykernel)",
   "language": "python",
   "name": "python3"
  },
  "language_info": {
   "codemirror_mode": {
    "name": "ipython",
    "version": 3
   },
   "file_extension": ".py",
   "mimetype": "text/x-python",
   "name": "python",
   "nbconvert_exporter": "python",
   "pygments_lexer": "ipython3",
   "version": "3.9.13"
  }
 },
 "nbformat": 4,
 "nbformat_minor": 5
}
